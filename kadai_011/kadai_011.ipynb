{
  "nbformat": 4,
  "nbformat_minor": 0,
  "metadata": {
    "colab": {
      "provenance": []
    },
    "kernelspec": {
      "name": "python3",
      "display_name": "Python 3"
    },
    "language_info": {
      "name": "python"
    }
  },
  "cells": [
    {
      "cell_type": "code",
      "execution_count": 1,
      "metadata": {
        "colab": {
          "base_uri": "https://localhost:8080/"
        },
        "id": "ZT6uRTMsj3Fp",
        "outputId": "2a465b67-2c68-40fb-951e-68883bfd2b5c"
      },
      "outputs": [
        {
          "output_type": "stream",
          "name": "stdout",
          "text": [
            "水\n",
            "金\n",
            "地\n",
            "火\n",
            "木\n",
            "土\n",
            "天\n",
            "海\n",
            "冥\n",
            "\n",
            "水\n",
            "金\n",
            "地\n",
            "火\n",
            "木\n",
            "土\n",
            "天\n",
            "海\n",
            "冥\n"
          ]
        }
      ],
      "source": [
        "# リストを定義\n",
        "array = [\"水\", \"金\", \"地\", \"火\", \"木\", \"土\", \"天\", \"海\", \"冥\"]\n",
        "\n",
        "# --- for文で出力 ---\n",
        "for element in array:\n",
        "    print(element)\n",
        "\n",
        "# 空行（見やすさのため）\n",
        "print()\n",
        "\n",
        "# --- while文で出力 ---\n",
        "i = 0\n",
        "while i < len(array):\n",
        "    print(array[i])\n",
        "    i += 1\n"
      ]
    }
  ]
}