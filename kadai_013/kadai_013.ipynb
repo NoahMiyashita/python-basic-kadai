{
  "nbformat": 4,
  "nbformat_minor": 0,
  "metadata": {
    "colab": {
      "provenance": []
    },
    "kernelspec": {
      "name": "python3",
      "display_name": "Python 3"
    },
    "language_info": {
      "name": "python"
    }
  },
  "cells": [
    {
      "cell_type": "code",
      "execution_count": 1,
      "metadata": {
        "colab": {
          "base_uri": "https://localhost:8080/"
        },
        "id": "jb_s260SjIo8",
        "outputId": "db674361-bc6c-4241-c7d6-461b74716faf"
      },
      "outputs": [
        {
          "output_type": "stream",
          "name": "stdout",
          "text": [
            "税込価格は 121.00000000000001 円です。\n"
          ]
        }
      ],
      "source": [
        "# 消費税込みの金額を計算する関数\n",
        "def calculate_tax_included(price, tax_rate):\n",
        "    return price * (1 + tax_rate / 100)\n",
        "\n",
        "# 金額110円、消費税10%\n",
        "price = 110\n",
        "tax_rate = 10\n",
        "\n",
        "# 関数を使って税込価格を計算\n",
        "total_price = calculate_tax_included(price, tax_rate)\n",
        "\n",
        "# 結果を表示\n",
        "print(\"税込価格は\", total_price, \"円です。\")\n"
      ]
    }
  ]
}