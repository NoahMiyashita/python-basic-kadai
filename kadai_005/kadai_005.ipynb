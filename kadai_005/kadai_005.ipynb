{
  "nbformat": 4,
  "nbformat_minor": 0,
  "metadata": {
    "colab": {
      "provenance": []
    },
    "kernelspec": {
      "name": "python3",
      "display_name": "Python 3"
    },
    "language_info": {
      "name": "python"
    }
  },
  "cells": [
    {
      "cell_type": "code",
      "execution_count": 5,
      "metadata": {
        "colab": {
          "base_uri": "https://localhost:8080/"
        },
        "id": "ITqDEeQEeAbX",
        "outputId": "663eb0fe-5460-46a5-b20e-e0b5e686e522"
      },
      "outputs": [
        {
          "output_type": "stream",
          "name": "stdout",
          "text": [
            "75.0cm²\n"
          ]
        }
      ],
      "source": [
        "\n",
        "a = 10\n",
        "b = 20\n",
        "h = 5\n",
        "\n",
        "# 台形の面積をSとする\n",
        "S = (a + b) * h / 2\n",
        "\n",
        "# 出力：数値と文字列「cm²」を結合\n",
        "print(str(S) + \"cm²\")\n"
      ]
    }
  ]
}