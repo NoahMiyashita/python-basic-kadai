{
  "nbformat": 4,
  "nbformat_minor": 0,
  "metadata": {
    "colab": {
      "provenance": [],
      "toc_visible": true
    },
    "kernelspec": {
      "name": "python3",
      "display_name": "Python 3"
    },
    "language_info": {
      "name": "python"
    }
  },
  "cells": [
    {
      "cell_type": "code",
      "execution_count": 4,
      "metadata": {
        "colab": {
          "base_uri": "https://localhost:8080/"
        },
        "id": "ITqDEeQEeAbX",
        "outputId": "925eef6b-df27-41d4-c927-7108ad5bda5c"
      },
      "outputs": [
        {
          "output_type": "stream",
          "name": "stdout",
          "text": [
            "台形の面積は 75.0 cm2です。\n"
          ]
        }
      ],
      "source": [
        "a = 10\n",
        "b = 20\n",
        "h = 5\n",
        "\n",
        "S = (a + b) * h / 2\n",
        "print(\"台形の面積は\", S, \"cm2です。\")"
      ]
    }
  ]
}