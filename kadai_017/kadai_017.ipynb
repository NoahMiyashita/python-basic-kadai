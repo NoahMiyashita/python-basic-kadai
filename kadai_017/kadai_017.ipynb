{
  "nbformat": 4,
  "nbformat_minor": 0,
  "metadata": {
    "colab": {
      "provenance": []
    },
    "kernelspec": {
      "name": "python3",
      "display_name": "Python 3"
    },
    "language_info": {
      "name": "python"
    }
  },
  "cells": [
    {
      "cell_type": "code",
      "execution_count": 1,
      "metadata": {
        "colab": {
          "base_uri": "https://localhost:8080/"
        },
        "id": "JNXPk_TdFTro",
        "outputId": "56547ee7-9970-45f5-ee9d-793c201a87f3"
      },
      "outputs": [
        {
          "output_type": "stream",
          "name": "stdout",
          "text": [
            "ノアさん（48歳）は大人です。\n",
            "ともちゃんさん（19歳）は大人ではありません。\n",
            "さくらさん（22歳）は大人です。\n",
            "ユウさん（17歳）は大人ではありません。\n",
            "ミナトさん（20歳）は大人です。\n"
          ]
        }
      ],
      "source": [
        "# Humanクラスを定義\n",
        "class Human:\n",
        "    def __init__(self, name, age):\n",
        "        self.name = name\n",
        "        self.age = age\n",
        "\n",
        "    def check_adult(self):\n",
        "        if self.age >= 20:\n",
        "            print(f\"{self.name}さん（{self.age}歳）は大人です。\")\n",
        "        else:\n",
        "            print(f\"{self.name}さん（{self.age}歳）は大人ではありません。\")\n",
        "\n",
        "# インスタンスを複数作成\n",
        "people = [\n",
        "    Human(\"ノア\", 48),\n",
        "    Human(\"ともちゃん\", 19),\n",
        "    Human(\"さくら\", 22),\n",
        "    Human(\"ユウ\", 17),\n",
        "    Human(\"ミナト\", 20)\n",
        "]\n",
        "\n",
        "# 全員のcheck_adultを実行\n",
        "for person in people:\n",
        "    person.check_adult()\n"
      ]
    }
  ]
}