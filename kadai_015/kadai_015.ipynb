{
  "nbformat": 4,
  "nbformat_minor": 0,
  "metadata": {
    "colab": {
      "provenance": []
    },
    "kernelspec": {
      "name": "python3",
      "display_name": "Python 3"
    },
    "language_info": {
      "name": "python"
    }
  },
  "cells": [
    {
      "cell_type": "code",
      "execution_count": 1,
      "metadata": {
        "colab": {
          "base_uri": "https://localhost:8080/"
        },
        "id": "-M-N22pcDmaH",
        "outputId": "8b7bbdea-5d56-4ab1-b2f0-bc96be25d7a7"
      },
      "outputs": [
        {
          "output_type": "stream",
          "name": "stdout",
          "text": [
            "名前: ノア\n",
            "年齢: 47\n"
          ]
        }
      ],
      "source": [
        "# Humanクラスの定義\n",
        "class Human:\n",
        "    def __init__(self, name, age):\n",
        "        self.name = name  # 名前属性\n",
        "        self.age = age    # 年齢属性\n",
        "\n",
        "    def printinfo(self):\n",
        "        print(f\"名前: {self.name}\")\n",
        "        print(f\"年齢: {self.age}\")\n",
        "\n",
        "# インスタンスの生成\n",
        "person = Human(\"ノア\", 47)\n",
        "\n",
        "# メソッドの呼び出し\n",
        "person.printinfo()\n"
      ]
    }
  ]
}